{
  "nbformat": 4,
  "nbformat_minor": 0,
  "metadata": {
    "colab": {
      "name": "spotify.ipynb",
      "provenance": [],
      "authorship_tag": "ABX9TyPROi4y9rn1aAvjcNo1kKxg",
      "include_colab_link": true
    },
    "kernelspec": {
      "name": "python3",
      "display_name": "Python 3"
    },
    "language_info": {
      "name": "python"
    }
  },
  "cells": [
    {
      "cell_type": "markdown",
      "metadata": {
        "id": "view-in-github",
        "colab_type": "text"
      },
      "source": [
        "<a href=\"https://colab.research.google.com/github/add-itya/SpotifyFilter/blob/main/spotify.ipynb\" target=\"_parent\"><img src=\"https://colab.research.google.com/assets/colab-badge.svg\" alt=\"Open In Colab\"/></a>"
      ]
    },
    {
      "cell_type": "code",
      "source": [
        "!pip install spotipy\n"
      ],
      "metadata": {
        "id": "RaoX1hFJJ8En"
      },
      "execution_count": null,
      "outputs": []
    },
    {
      "cell_type": "code",
      "source": [
        "import json\n",
        "import time\n",
        "import spotipy\n",
        "from spotipy.oauth2 import SpotifyClientCredentials\n",
        "import pandas as pd\n",
        "import spotipy\n",
        "from spotipy.oauth2 import SpotifyClientCredentials\n",
        "\n",
        "username = \"___\"\n",
        "client_id = \"___\"\n",
        "client_secret = \"___\"\n",
        "client_credentials_manager = SpotifyClientCredentials(client_id, client_secret)\n",
        "\n",
        "\n",
        "##oauth\n",
        "scope = \"playlist-modify-public playlist-read-private playlist-modify-private\"\n",
        "sp = spotipy.Spotify(\n",
        "        auth_manager=spotipy.SpotifyOAuth(\n",
        "          client_id=client_id,\n",
        "          client_secret=client_secret,\n",
        "          redirect_uri= \"https://example.com/callback/\",    \n",
        "          scope= scope, open_browser=False))\n",
        "\n",
        "def playlist_features(track_ids): \n",
        "  p_feat_list = []\n",
        "  for i in range(len(track_ids)):\n",
        "    p_feat_list.append(sp.audio_features(track_ids[i]))\n",
        "  return p_feat_list\n",
        "\n",
        "\n",
        "#name of function lol\n",
        "def list_of_tracks_and_playlist_id(category, lower, upper, features_list):\n",
        "  okay_tracks = []\n",
        "  for i in range(len(features_list)):\n",
        "    category_val = features_list[i][0][category]\n",
        "    if category_val >= lower and category_val <= upper:\n",
        "      okay_tracks.append(features_list[i][0][\"id\"])\n",
        "  return okay_tracks\n",
        "\n",
        "\n",
        "#functions to make playlist\n",
        "import math\n",
        "def make_playlist(trackids, playlist_name, description):\n",
        "  l = len(trackids)\n",
        "  n = math.ceil(l/100)\n",
        "  a = sp.user_playlist_create(\"21wfyastuderpsx3drltmt52i\", name = playlist_name, public = False, collaborative = False, description = description)\n",
        "  playlist_id = a[\"id\"]\n",
        "  for i in range(n):\n",
        "    helper(trackids[i*100:100*(i+1)], playlist_id)\n",
        "    \n",
        "def helper(trackids, playlist_id):\n",
        "  sp.playlist_add_items(playlist_id, trackids)\n",
        "\n",
        "\n",
        "\n",
        "#functions to read playlist\n",
        "\n",
        "def show_tracks(results, uriArray):\n",
        "  for i, item in enumerate(results[\"items\"]):\n",
        "    track = item['track']\n",
        "    uriArray.append(track[\"id\"])\n",
        "\n",
        "def get_playlist_track_id(username, playlist_id):\n",
        "  trackID = []\n",
        "  results = sp.user_playlist(username, playlist_id)\n",
        "  tracks = results[\"tracks\"]\n",
        "  show_tracks(tracks, trackID)\n",
        "  while tracks[\"next\"]:\n",
        "      tracks = sp.next(tracks)\n",
        "      show_tracks(tracks, trackID)\n",
        "  return trackID\n",
        "\n",
        "\n",
        "\n",
        "#function that gets playlist id from name\n",
        "a = sp.current_user_playlists()\n",
        "def get_preexisting_id(name):\n",
        "  id = \"\"\n",
        "  for i in a[\"items\"]:\n",
        "    if i[\"name\"] == name:\n",
        "      id = i[\"id\"]\n",
        "  return id\n",
        "\n",
        "#implementation\n",
        "\n",
        "#6 different categories:\n",
        "\n",
        "#Acousticness\n",
        "#danceability\n",
        "#instrumentalness\n",
        "#liveness\n",
        "#speechiness\n",
        "#valence\n",
        "\n",
        "#have the list of trackids\n",
        "#input: username and playlist id\n",
        "mango_lassi_track_ids = get_playlist_track_id(username, \"02o7Vidb51HA7cX6CfCzx8?si=a7b9c6acf59449b3\")\n",
        "\n",
        "#playlist features\n",
        "mango_lassi_features_list = playlist_features(mango_lassi_track_ids)\n",
        "\n",
        "#create featured playlist\n",
        "#input category, range\n",
        "trackids_filtered = list_of_tracks_and_playlist_id(\"danceability\", 0.8, 1.0, mango_lassi_features_list)\n",
        "\n",
        "\n",
        "make_playlist(trackids_filtered, \"gym shi\", \"oops\")"
      ],
      "metadata": {
        "id": "VMB_beTOKMHp"
      },
      "execution_count": null,
      "outputs": []
    }
  ]
}